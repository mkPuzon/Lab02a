{
 "cells": [
  {
   "cell_type": "markdown",
   "metadata": {},
   "source": [
    "**Maddie Puzon**\n",
    "\n",
    "Spring 2024\n",
    "\n",
    "CS 252: Mathematical Data Analysis and Visualization"
   ]
  },
  {
   "cell_type": "markdown",
   "metadata": {},
   "source": [
    "# Lab 2a | Linear Regression\n",
    "\n",
    "## Task 1: Mystery Data 1\n",
    "\n",
    "### 1a. Import the data\n",
    "\n",
    "1. Import data '`data/mystery_data_1.csv'` (using your data class or [genfromtxt](https://docs.scipy.org/doc/numpy/reference/generated/numpy.genfromtxt.html))\n",
    "2. Print first 10 lines rows of data.\n",
    "\n",
    "#### 1b. Using the following links and matplotlib documentation to view the data:\n",
    "- [matplotlib](https://matplotlib.org/)\n",
    "- [matplotlib hist](https://matplotlib.org/gallery/statistics/hist.html)\n",
    "1. Create a figure with 3 subplots (each with a title):\n",
    "    1. One scatterplot with column X on the x-axis and column Y on the y-axis.\n",
    "    2. Two histograms: one for the X data, the other for the Y data. Use 10 bins in each histogram."
   ]
  },
  {
   "cell_type": "code",
   "execution_count": null,
   "metadata": {},
   "outputs": [],
   "source": [
    "import numpy as np\n",
    "import matplotlib.pyplot as plt\n",
    "plt.style.use(['seaborn-v0_8-colorblind', 'seaborn-v0_8-darkgrid'])\n",
    "plt.rcParams[\"figure.figsize\"] = [12,4.5]\n",
    "\n",
    "# Your code here\n",
    "\n",
    "\n",
    "print('''\n",
    "-----------------------------------\n",
    "Your results should look like this:\n",
    "-----------------------------------\n",
    "First 10 rows:\n",
    "[[ 9.185  0.536]\n",
    " [29.323 -3.209]\n",
    " [26.767  2.751]\n",
    " [17.792 -2.81 ]\n",
    " [14.624  2.409]\n",
    " [ 8.078  3.677]\n",
    " [ 3.736 -3.28 ]\n",
    " [10.999 -2.997]\n",
    " [18.113 -3.055]\n",
    " [ 3.33  -0.443]]\n",
    "-----------------------------------\n",
    "''')"
   ]
  },
  {
   "cell_type": "markdown",
   "metadata": {},
   "source": [
    "## Task 2: Analyze Mystery Data 1\n",
    "\n",
    "### 2a. Use scipy to calculate the linear regression for Mystery Data 1 \n",
    "\n",
    "Print first 10 lines rows of data.\n",
    "\n",
    "Calculate the linear regression [scipy.linalg.lstsq](https://docs.scipy.org/doc/scipy/reference/generated/scipy.linalg.lstsq.html)\n",
    "- The `a` parameter is the `A` array of independent data variables, the `b` parameter is the `y` array of the dependent variable values.\n",
    "- Note that `A` matrix should include the column of 1s for the intercept. \n",
    "- Useful: [hstack](https://docs.scipy.org/doc/numpy/reference/generated/numpy.hstack.html), [ones](https://docs.scipy.org/doc/numpy/reference/generated/numpy.ones.html) and `np.newaxis` (or [reshape](https://docs.scipy.org/doc/numpy/reference/generated/numpy.reshape.html)).\n",
    "\n",
    "**NOTE:** One of the things that `scipy.linalg.lstsq` returns is the **residues**, which is another name for the sum of all the squared errors (**SSE**). This is different than the residuals, which refer to just the set of errors (i.e. differences between value on regression curve and actual data sample), not their sum of squares.\n",
    "\n",
    "Print the least-squares solved coefficients and residues.\n",
    "\n",
    "Using the SSE, calculate and print the $R^2$ value using the following equations:\n",
    "\n",
    "$R^2 = 1 - \\frac{SSE}{smd}$\n",
    "\n",
    "The square mean deviation: $smd = \\sum_i^N \\left ( y_i - \\frac{1}{N} \\sum_i^N y_i \\right )^2$"
   ]
  },
  {
   "cell_type": "code",
   "execution_count": null,
   "metadata": {},
   "outputs": [],
   "source": [
    "import scipy.linalg\n",
    "\n",
    "# Your code here\n",
    "\n",
    "print('''\n",
    "-----------------------------------\n",
    "Your results should look like this:\n",
    "----------------------------------- \n",
    "c: [ 0.92884793 -0.05650709]\n",
    "\n",
    "SSE: 3722.8001542015754\n",
    "\n",
    "r2: 0.033824411486558126\n",
    "-----------------------------------\n",
    "''')"
   ]
  },
  {
   "cell_type": "markdown",
   "metadata": {},
   "source": [
    "### 2b. Visualize linear regression results with matplotlib\n",
    "\n",
    "1. Plot a scatterplot of the mystery data X on the x axis and Y on the y axis\n",
    "2. Plot a line representing the linear regression\n",
    "    1. For line_x, use [linspace](https://docs.scipy.org/doc/numpy/reference/generated/numpy.linspace.html) to create 100 points from the min x value to the max x value\n",
    "    2. For line_y, multiply line_x by the slope and add the intercept\n",
    "3. Include a title (with $R^2$ value), legend, x label and y label"
   ]
  },
  {
   "cell_type": "code",
   "execution_count": null,
   "metadata": {
    "scrolled": true
   },
   "outputs": [],
   "source": []
  },
  {
   "cell_type": "markdown",
   "metadata": {},
   "source": [
    "### 2c.  Interpret the results of the linear regression of the dataset \n",
    "\n",
    "**Question 1:** Interpret the results based on your plot and $R^2$ value. Is the linear regression model a good model for the data? **Why?**"
   ]
  },
  {
   "cell_type": "markdown",
   "metadata": {},
   "source": [
    "**Answer 1:** "
   ]
  }
 ],
 "metadata": {
  "kernelspec": {
   "display_name": "Python 3 (ipykernel)",
   "language": "python",
   "name": "python3"
  },
  "language_info": {
   "codemirror_mode": {
    "name": "ipython",
    "version": 3
   },
   "file_extension": ".py",
   "mimetype": "text/x-python",
   "name": "python",
   "nbconvert_exporter": "python",
   "pygments_lexer": "ipython3",
   "version": "3.10.11"
  }
 },
 "nbformat": 4,
 "nbformat_minor": 4
}
